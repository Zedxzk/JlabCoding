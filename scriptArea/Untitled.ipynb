{
 "cells": [
  {
   "cell_type": "code",
   "execution_count": 8,
   "id": "d2bd75c9",
   "metadata": {},
   "outputs": [
    {
     "name": "stdout",
     "output_type": "stream",
     "text": [
      "[[1, -9],\n",
      " [1, 6],\n",
      " [2, -6],\n",
      " [2, 16],\n",
      " [2, 20],\n",
      " [4, 8],\n",
      " [6, -7],\n",
      " [7, 3],\n",
      " [8, 12],\n",
      " [8, 19],\n",
      " [9, 20],\n",
      " [10, 14],\n",
      " [10, 19],\n",
      " [11, 19],\n",
      " [12, 18],\n",
      " [14, 17]]\n"
     ]
    }
   ],
   "source": [
    "from pprint import pprint\n",
    "points = [\n",
    "    [27, 31],\n",
    "    [26, 22],\n",
    "    [25, 13],\n",
    "    [23, 27],\n",
    "    [21, 39],\n",
    "    [21, 35],\n",
    "    [21, 14],\n",
    "    [33, 36],\n",
    "    [31, 37],\n",
    "    [30, 38],\n",
    "    [29, 33],\n",
    "    [28, 39],\n",
    "    [29, 38],\n",
    "    [27, 38],\n",
    "    [20, 25],\n",
    "    [20, 11],\n",
    "]\n",
    "for point in points:\n",
    "    point[0] -= 19 if point[0] >=20 else 20\n",
    "    point[1] -= 19 if point[1] >=20 else 20\n",
    "points = sorted(points)\n",
    "pprint(points)\n"
   ]
  }
 ],
 "metadata": {
  "kernelspec": {
   "display_name": "Python 3 (ipykernel)",
   "language": "python",
   "name": "python3"
  },
  "language_info": {
   "codemirror_mode": {
    "name": "ipython",
    "version": 3
   },
   "file_extension": ".py",
   "mimetype": "text/x-python",
   "name": "python",
   "nbconvert_exporter": "python",
   "pygments_lexer": "ipython3",
   "version": "3.9.20"
  }
 },
 "nbformat": 4,
 "nbformat_minor": 5
}
